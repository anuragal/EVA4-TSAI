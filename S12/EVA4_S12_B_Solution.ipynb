{
  "nbformat": 4,
  "nbformat_minor": 0,
  "metadata": {
    "colab": {
      "name": "EVA4-S12-B-Solution.ipynb",
      "provenance": [],
      "collapsed_sections": [],
      "authorship_tag": "ABX9TyNBKWoRZHHadKZD+ZUt2/aJ",
      "include_colab_link": true
    },
    "kernelspec": {
      "name": "python3",
      "display_name": "Python 3"
    }
  },
  "cells": [
    {
      "cell_type": "markdown",
      "metadata": {
        "id": "view-in-github",
        "colab_type": "text"
      },
      "source": [
        "<a href=\"https://colab.research.google.com/github/uday96/EVA4-TSAI/blob/master/S12/EVA4_S12_B_Solution.ipynb\" target=\"_parent\"><img src=\"https://colab.research.google.com/assets/colab-badge.svg\" alt=\"Open In Colab\"/></a>"
      ]
    },
    {
      "cell_type": "markdown",
      "metadata": {
        "id": "1xQ6KAvMoqRR",
        "colab_type": "text"
      },
      "source": [
        "## Imports and Initialization\n",
        "\n",
        "Import required modules"
      ]
    },
    {
      "cell_type": "code",
      "metadata": {
        "id": "_JJYqHW8XGiH",
        "colab_type": "code",
        "colab": {}
      },
      "source": [
        "import numpy as np\n",
        "import json\n",
        "import pprint\n",
        "\n",
        "from annotater import Annotater"
      ],
      "execution_count": 0,
      "outputs": []
    },
    {
      "cell_type": "markdown",
      "metadata": {
        "id": "dvv7UoZbtfaY",
        "colab_type": "text"
      },
      "source": [
        "## Annotated BBox Data\n",
        "\n",
        "Used this tool - http://www.robots.ox.ac.uk/~vgg/software/via/via_demo.html to annotate 50 images of dogs.\n",
        "\n",
        "dog_images: '**data/annotations/dogs**'\n",
        "\n",
        "dog_annotations: '**data/annotations/annotations_dogs.json**'"
      ]
    },
    {
      "cell_type": "code",
      "metadata": {
        "id": "1jlUINpFt1U0",
        "colab_type": "code",
        "colab": {
          "base_uri": "https://localhost:8080/",
          "height": 323
        },
        "outputId": "ea4d2ec0-2e01-4bfb-f1ee-af0283567af1"
      },
      "source": [
        "in_path = \"/content/data/annotations/annotations_dogs.json\"\n",
        "with open(in_path, 'r') as f:\n",
        "\t\t\tannotations = json.load(f)\n",
        "print(annotations.keys(), \"\\n\")\n",
        "pprint.pprint(annotations[\"images\"][0])\n",
        "print()\n",
        "pprint.pprint(annotations[\"annotations\"][0])\n",
        "print()\n",
        "pprint.pprint(annotations[\"categories\"][0])"
      ],
      "execution_count": 2,
      "outputs": [
        {
          "output_type": "stream",
          "text": [
            "dict_keys(['info', 'images', 'annotations', 'licenses', 'categories']) \n",
            "\n",
            "{'date_captured': '',\n",
            " 'file_name': 'dog_0.jpg',\n",
            " 'height': 183,\n",
            " 'id': 0,\n",
            " 'license': 1,\n",
            " 'width': 275}\n",
            "\n",
            "{'area': 32041,\n",
            " 'bbox': [2, 2, 179, 179],\n",
            " 'category_id': 1,\n",
            " 'id': 0,\n",
            " 'image_id': '0',\n",
            " 'iscrowd': 0,\n",
            " 'segmentation': [2, 2, 181, 2, 181, 181, 2, 181]}\n",
            "\n",
            "{'id': 1, 'name': 'dog', 'supercategory': 'class'}\n"
          ],
          "name": "stdout"
        }
      ]
    },
    {
      "cell_type": "markdown",
      "metadata": {
        "id": "-aY-2mH4wD27",
        "colab_type": "text"
      },
      "source": [
        "The downloaded annotations are COCO format\n",
        "\n",
        "*   **images.file_name**: image file name\n",
        "*   **images.height**: height of the image\n",
        "*   **images.width**: width of the image\n",
        "*   **annotations.bbox**: the dimensions of the bounding box in the image in the order: x, y, w, h\n",
        "  *  **x**: x co-ordinate of top left corner of bbox assuming the origin is at the top left corner of the image\n",
        "  *  **y**: y co-ordinate of top left corner of bbox assuming the origin is at the top left corner of the image\n",
        "  *  **w**: width of the bbox\n",
        "  *  **h**: height of the bbox\n",
        "*   **categories.name**: the annotated class for the object in the bbox"
      ]
    },
    {
      "cell_type": "markdown",
      "metadata": {
        "id": "rOVH8Ypto2k8",
        "colab_type": "text"
      },
      "source": [
        "## Anchor Boxes\n",
        "\n",
        "Initialize the annotater. Parse the image annotations and generate the scaled bounding boxes"
      ]
    },
    {
      "cell_type": "code",
      "metadata": {
        "id": "sQ7O4kjTX07o",
        "colab_type": "code",
        "colab": {
          "base_uri": "https://localhost:8080/",
          "height": 221
        },
        "outputId": "b9dfa786-c779-471a-d0d5-5381398bf1b7"
      },
      "source": [
        "in_path = \"/content/data/annotations/annotations_dogs.json\"\n",
        "out_path = \"/content/data/annotations/bboxes_dogs.csv\"\n",
        "ant = Annotater(in_path, out_path)"
      ],
      "execution_count": 3,
      "outputs": [
        {
          "output_type": "stream",
          "text": [
            "Saved image bbox data at: /content/data/annotations/bboxes_dogs.csv\n",
            "\n",
            "Showing the first few rows of generated bbox data:\n",
            "\n",
            "    img_name class  img_h  ...  bbox_scaled_y  bbox_scaled_w  bbox_scaled_h\n",
            "0  dog_0.jpg   dog    183  ...       0.010929       0.650909       0.978142\n",
            "1  dog_1.jpg   dog    183  ...       0.087432       0.730909       0.896175\n",
            "2  dog_2.jpg   dog    168  ...       0.000000       0.783333       0.988095\n",
            "3  dog_3.jpg   dog    174  ...       0.126437       0.294118       0.764368\n",
            "4  dog_4.jpg   dog    183  ...       0.065574       0.949091       0.874317\n",
            "\n",
            "[5 rows x 12 columns]\n"
          ],
          "name": "stdout"
        }
      ]
    },
    {
      "cell_type": "markdown",
      "metadata": {
        "id": "WnjppjVYqVej",
        "colab_type": "text"
      },
      "source": [
        "### Visualise Bounding Boxes\n",
        "\n",
        "Visualise the scaled bounding boxes of all the images. We. use the log scaled data for clustering as it gives compact and better clusters"
      ]
    },
    {
      "cell_type": "code",
      "metadata": {
        "id": "YjLBVyzTqSxm",
        "colab_type": "code",
        "colab": {
          "base_uri": "https://localhost:8080/",
          "height": 308
        },
        "outputId": "9b1f070a-be80-46ae-8c4b-8ec1c7a175cd"
      },
      "source": [
        "ant.show_bboxes()"
      ],
      "execution_count": 4,
      "outputs": [
        {
          "output_type": "display_data",
          "data": {
            "image/png": "[encoded data removed]",
            "text/plain": [
              "<Figure size 864x288 with 2 Axes>"
            ]
          },
          "metadata": {
            "tags": [],
            "needs_background": "light"
          }
        }
      ]
    },
    {
      "cell_type": "markdown",
      "metadata": {
        "id": "eI6UZ8jaqgoq",
        "colab_type": "text"
      },
      "source": [
        "### Determine optimal number of clusters\n",
        "\n",
        "Determine the optimal number of clusters using the elbow method. We train multiple models using a different number of clusters and store the value of the intertia_ property (WCSS) every time"
      ]
    },
    {
      "cell_type": "code",
      "metadata": {
        "id": "0fi4dySGdZV-",
        "colab_type": "code",
        "colab": {
          "base_uri": "https://localhost:8080/",
          "height": 295
        },
        "outputId": "73a17b7d-7847-4b92-d2d1-683f834831e0"
      },
      "source": [
        "ant.try_cluster()"
      ],
      "execution_count": 5,
      "outputs": [
        {
          "output_type": "display_data",
          "data": {
            "image/png": "[encoded data removed]",
            "text/plain": [
              "<Figure size 432x288 with 1 Axes>"
            ]
          },
          "metadata": {
            "tags": [],
            "needs_background": "light"
          }
        }
      ]
    },
    {
      "cell_type": "markdown",
      "metadata": {
        "id": "JJPhHFo-rNtX",
        "colab_type": "text"
      },
      "source": [
        "### Generate Template Bounding Boxes\n",
        "\n",
        "Get the optimal number of clusters from Elbow method and cluster the data"
      ]
    },
    {
      "cell_type": "code",
      "metadata": {
        "id": "FWjhQTioe6He",
        "colab_type": "code",
        "colab": {
          "base_uri": "https://localhost:8080/",
          "height": 281
        },
        "outputId": "96e5f496-480c-48c7-d8b4-2a22fb4ec54c"
      },
      "source": [
        "ant.fit(5)"
      ],
      "execution_count": 6,
      "outputs": [
        {
          "output_type": "display_data",
          "data": {
            "image/png": "[encoded data removed]",
            "text/plain": [
              "<Figure size 432x288 with 1 Axes>"
            ]
          },
          "metadata": {
            "tags": [],
            "needs_background": "light"
          }
        }
      ]
    },
    {
      "cell_type": "markdown",
      "metadata": {
        "id": "8hVDg2y0riGM",
        "colab_type": "text"
      },
      "source": [
        "The centroids are the template bounding boxes. Since we clustered the data on log scale, we convert it back to the (0,1) range."
      ]
    },
    {
      "cell_type": "code",
      "metadata": {
        "id": "MVqTx8hanrNO",
        "colab_type": "code",
        "colab": {
          "base_uri": "https://localhost:8080/",
          "height": 102
        },
        "outputId": "1b0454a5-928c-4693-f705-3613eca65a47"
      },
      "source": [
        "np.exp(ant.centroids)"
      ],
      "execution_count": 7,
      "outputs": [
        {
          "output_type": "execute_result",
          "data": {
            "text/plain": [
              "array([[0.66169087, 0.931878  ],\n",
              "       [0.85672247, 0.89318779],\n",
              "       [0.34286633, 0.78120858],\n",
              "       [0.58829609, 0.74073576],\n",
              "       [0.46705967, 0.90924726]])"
            ]
          },
          "metadata": {
            "tags": []
          },
          "execution_count": 7
        }
      ]
    }
  ]
}