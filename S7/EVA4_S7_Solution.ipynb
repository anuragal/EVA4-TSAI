{
  "nbformat": 4,
  "nbformat_minor": 0,
  "metadata": {
    "colab": {
      "name": "EVA4-S7-Solution.ipynb",
      "provenance": [],
      "collapsed_sections": [],
      "toc_visible": true,
      "authorship_tag": "ABX9TyOmofuksW61xjiBhEc5EzlF",
      "include_colab_link": true
    },
    "kernelspec": {
      "name": "python3",
      "display_name": "Python 3"
    },
    "accelerator": "GPU"
  },
  "cells": [
    {
      "cell_type": "markdown",
      "metadata": {
        "id": "view-in-github",
        "colab_type": "text"
      },
      "source": [
        "<a href=\"https://colab.research.google.com/github/uday96/EVA4-TSAI/blob/master/S7/EVA4_S7_Solution.ipynb\" target=\"_parent\"><img src=\"https://colab.research.google.com/assets/colab-badge.svg\" alt=\"Open In Colab\"/></a>"
      ]
    },
    {
      "cell_type": "markdown",
      "metadata": {
        "id": "1T-Vb8dH6_6w",
        "colab_type": "text"
      },
      "source": [
        "## Imports and Initialization\n",
        "\n",
        "Import required modules"
      ]
    },
    {
      "cell_type": "code",
      "metadata": {
        "id": "C6W0xIa667bZ",
        "colab_type": "code",
        "colab": {}
      },
      "source": [
        "import torch\n",
        "import torchvision\n",
        "import torch.nn as nn\n",
        "import torch.optim as optim\n",
        "\n",
        "from config import ModelConfig\n",
        "from data_engine import DataEngine\n",
        "from model import Net\n",
        "from train import train\n",
        "from test import test\n",
        "from results import plot_misclassified_images, plot_graph\n",
        "from utils import *"
      ],
      "execution_count": 0,
      "outputs": []
    },
    {
      "cell_type": "markdown",
      "metadata": {
        "id": "PyyAvtByru8V",
        "colab_type": "text"
      },
      "source": [
        "## Model Configuration and Set Seed\n",
        "\n",
        "View model configuration and set the seed"
      ]
    },
    {
      "cell_type": "code",
      "metadata": {
        "id": "uC7JTse_r5Cl",
        "colab_type": "code",
        "colab": {
          "base_uri": "https://localhost:8080/",
          "height": 170
        },
        "outputId": "8f260dce-c257-4590-f77c-5114a455d3e0"
      },
      "source": [
        "# View model config\n",
        "args = ModelConfig()\n",
        "args.print_config()\n",
        "\n",
        "print()\n",
        "# Set seed\n",
        "init_seed(args)"
      ],
      "execution_count": 2,
      "outputs": [
        {
          "output_type": "stream",
          "text": [
            "Model Parameters:\n",
            "{  'batch_size_cpu': 64,\n",
            "   'batch_size_cuda': 64,\n",
            "   'dropout_value': 0.15,\n",
            "   'epochs': 50,\n",
            "   'num_workers': 4,\n",
            "   'seed': 1}\n",
            "\n",
            "CUDA Available\n"
          ],
          "name": "stdout"
        }
      ]
    },
    {
      "cell_type": "markdown",
      "metadata": {
        "id": "FAeSe6mS7JN7",
        "colab_type": "text"
      },
      "source": [
        "## Data Loading and Visualization\n",
        "\n",
        "Preprocess and load the cifar10 dataset. Visualise the dataset."
      ]
    },
    {
      "cell_type": "code",
      "metadata": {
        "id": "f3bSIGeD7MwS",
        "colab_type": "code",
        "outputId": "0a025f2f-e3bd-411f-f549-17357c5ca2bc",
        "colab": {
          "base_uri": "https://localhost:8080/",
          "height": 189
        }
      },
      "source": [
        "data = DataEngine(args)\n",
        "\n",
        "# get some random training images\n",
        "dataiter = iter(data.train_loader)\n",
        "images, labels = dataiter.next()\n",
        "\n",
        "# show images\n",
        "imshow(torchvision.utils.make_grid(images[:4]))\n",
        "# print labels\n",
        "print(' '.join('%5s' % data.classes[labels[j]] for j in range(4)))"
      ],
      "execution_count": 3,
      "outputs": [
        {
          "output_type": "stream",
          "text": [
            "Files already downloaded and verified\n",
            "Files already downloaded and verified\n",
            "plane   dog  deer  deer\n"
          ],
          "name": "stdout"
        },
        {
          "output_type": "display_data",
          "data": {
            "image/png": "[encoded data removed]",
            "text/plain": [
              "<Figure size 432x288 with 1 Axes>"
            ]
          },
          "metadata": {
            "tags": []
          }
        }
      ]
    },
    {
      "cell_type": "markdown",
      "metadata": {
        "id": "LzMNSc3R9B_6",
        "colab_type": "text"
      },
      "source": [
        "## Model\n",
        "\n",
        "Create model and display model summary"
      ]
    },
    {
      "cell_type": "code",
      "metadata": {
        "id": "VJiTJeku9EiF",
        "colab_type": "code",
        "outputId": "bccfa7c0-d213-4670-d74d-98a80d4b564b",
        "colab": {
          "base_uri": "https://localhost:8080/",
          "height": 833
        }
      },
      "source": [
        "device = which_device()\n",
        "model = Net(args).to(device)\n",
        "show_model_summary(model, device, (3,32,32))"
      ],
      "execution_count": 4,
      "outputs": [
        {
          "output_type": "stream",
          "text": [
            "----------------------------------------------------------------\n",
            "        Layer (type)               Output Shape         Param #\n",
            "================================================================\n",
            "            Conv2d-1           [-1, 32, 32, 32]             864\n",
            "              ReLU-2           [-1, 32, 32, 32]               0\n",
            "       BatchNorm2d-3           [-1, 32, 32, 32]              64\n",
            "           Dropout-4           [-1, 32, 32, 32]               0\n",
            "            Conv2d-5           [-1, 32, 32, 32]           9,216\n",
            "              ReLU-6           [-1, 32, 32, 32]               0\n",
            "       BatchNorm2d-7           [-1, 32, 32, 32]              64\n",
            "         MaxPool2d-8           [-1, 32, 16, 16]               0\n",
            "            Conv2d-9           [-1, 64, 16, 16]          18,432\n",
            "             ReLU-10           [-1, 64, 16, 16]               0\n",
            "      BatchNorm2d-11           [-1, 64, 16, 16]             128\n",
            "          Dropout-12           [-1, 64, 16, 16]               0\n",
            "           Conv2d-13           [-1, 64, 16, 16]          36,864\n",
            "             ReLU-14           [-1, 64, 16, 16]               0\n",
            "      BatchNorm2d-15           [-1, 64, 16, 16]             128\n",
            "        MaxPool2d-16             [-1, 64, 8, 8]               0\n",
            "           Conv2d-17             [-1, 64, 8, 8]             576\n",
            "           Conv2d-18             [-1, 64, 8, 8]           4,096\n",
            "             ReLU-19             [-1, 64, 8, 8]               0\n",
            "      BatchNorm2d-20             [-1, 64, 8, 8]             128\n",
            "          Dropout-21             [-1, 64, 8, 8]               0\n",
            "           Conv2d-22             [-1, 64, 8, 8]          36,864\n",
            "             ReLU-23             [-1, 64, 8, 8]               0\n",
            "      BatchNorm2d-24             [-1, 64, 8, 8]             128\n",
            "        MaxPool2d-25             [-1, 64, 4, 4]               0\n",
            "           Conv2d-26            [-1, 128, 2, 2]          73,728\n",
            "             ReLU-27            [-1, 128, 2, 2]               0\n",
            "      BatchNorm2d-28            [-1, 128, 2, 2]             256\n",
            "          Dropout-29            [-1, 128, 2, 2]               0\n",
            "           Conv2d-30            [-1, 128, 2, 2]         147,456\n",
            "             ReLU-31            [-1, 128, 2, 2]               0\n",
            "      BatchNorm2d-32            [-1, 128, 2, 2]             256\n",
            "AdaptiveAvgPool2d-33            [-1, 128, 1, 1]               0\n",
            "           Linear-34                   [-1, 10]           1,290\n",
            "================================================================\n",
            "Total params: 330,538\n",
            "Trainable params: 330,538\n",
            "Non-trainable params: 0\n",
            "----------------------------------------------------------------\n",
            "Input size (MB): 0.01\n",
            "Forward/backward pass size (MB): 3.00\n",
            "Params size (MB): 1.26\n",
            "Estimated Total Size (MB): 4.28\n",
            "----------------------------------------------------------------\n",
            "None\n"
          ],
          "name": "stdout"
        }
      ]
    },
    {
      "cell_type": "markdown",
      "metadata": {
        "id": "UPu8ah4Y92gf",
        "colab_type": "text"
      },
      "source": [
        "## Training and Testing\n",
        "\n",
        "Train the model and evaluate it"
      ]
    },
    {
      "cell_type": "code",
      "metadata": {
        "id": "A0M-yKLP-CF5",
        "colab_type": "code",
        "outputId": "89beacc4-a31f-4bdd-c443-fec4988c4899",
        "colab": {
          "base_uri": "https://localhost:8080/",
          "height": 1000
        }
      },
      "source": [
        "criterion = nn.CrossEntropyLoss()\n",
        "optimizer = optim.SGD(model.parameters(), lr=0.001, momentum=0.9, weight_decay=0.001)\n",
        "\n",
        "def run():\n",
        "  test_losses = []\n",
        "  test_accs = []\n",
        "  misclassified_imgs = []\n",
        "  for epoch in range(args.epochs):\n",
        "      print(\"EPOCH:\", epoch+1)\n",
        "      train(model, device, data.train_loader, criterion, optimizer, epoch)\n",
        "      test(model, device, data.test_loader, criterion, data.classes, test_losses, test_accs, misclassified_imgs, epoch==args.epochs-1)\n",
        "  return test_losses, test_accs, misclassified_imgs\n",
        "\n",
        "# train and test the model\n",
        "test_losses, test_accs, misclassified_imgs = run()"
      ],
      "execution_count": 5,
      "outputs": [
        {
          "output_type": "stream",
          "text": [
            "\r  0%|          | 0/782 [00:00<?, ?it/s]"
          ],
          "name": "stderr"
        },
        {
          "output_type": "stream",
          "text": [
            "EPOCH: 1\n"
          ],
          "name": "stdout"
        },
        {
          "output_type": "stream",
          "text": [
            "Loss=1.0311360359191895 Batch_id=781 Accuracy=46.40: 100%|██████████| 782/782 [00:13<00:00, 59.13it/s]\n",
            "  0%|          | 0/782 [00:00<?, ?it/s]"
          ],
          "name": "stderr"
        },
        {
          "output_type": "stream",
          "text": [
            "Test set: Average loss: 0.0193, Accuracy: 5578/10000 (55.78%)\n",
            "\n",
            "EPOCH: 2\n"
          ],
          "name": "stdout"
        },
        {
          "output_type": "stream",
          "text": [
            "Loss=0.48380959033966064 Batch_id=781 Accuracy=61.45: 100%|██████████| 782/782 [00:13<00:00, 66.74it/s]\n",
            "  0%|          | 0/782 [00:00<?, ?it/s]"
          ],
          "name": "stderr"
        },
        {
          "output_type": "stream",
          "text": [
            "Test set: Average loss: 0.0156, Accuracy: 6492/10000 (64.92%)\n",
            "\n",
            "EPOCH: 3\n"
          ],
          "name": "stdout"
        },
        {
          "output_type": "stream",
          "text": [
            "Loss=1.4071924686431885 Batch_id=781 Accuracy=67.33: 100%|██████████| 782/782 [00:13<00:00, 59.16it/s]\n",
            "  0%|          | 0/782 [00:00<?, ?it/s]"
          ],
          "name": "stderr"
        },
        {
          "output_type": "stream",
          "text": [
            "Test set: Average loss: 0.0129, Accuracy: 7077/10000 (70.77%)\n",
            "\n",
            "EPOCH: 4\n"
          ],
          "name": "stdout"
        },
        {
          "output_type": "stream",
          "text": [
            "Loss=0.7516796588897705 Batch_id=781 Accuracy=70.99: 100%|██████████| 782/782 [00:13<00:00, 59.02it/s]\n",
            "  0%|          | 0/782 [00:00<?, ?it/s]"
          ],
          "name": "stderr"
        },
        {
          "output_type": "stream",
          "text": [
            "Test set: Average loss: 0.0121, Accuracy: 7259/10000 (72.59%)\n",
            "\n",
            "EPOCH: 5\n"
          ],
          "name": "stdout"
        },
        {
          "output_type": "stream",
          "text": [
            "Loss=0.7097634673118591 Batch_id=781 Accuracy=73.83: 100%|██████████| 782/782 [00:13<00:00, 59.23it/s]\n",
            "  0%|          | 0/782 [00:00<?, ?it/s]"
          ],
          "name": "stderr"
        },
        {
          "output_type": "stream",
          "text": [
            "Test set: Average loss: 0.0107, Accuracy: 7631/10000 (76.31%)\n",
            "\n",
            "EPOCH: 6\n"
          ],
          "name": "stdout"
        },
        {
          "output_type": "stream",
          "text": [
            "Loss=1.2664847373962402 Batch_id=781 Accuracy=75.50: 100%|██████████| 782/782 [00:13<00:00, 59.12it/s]\n",
            "  0%|          | 0/782 [00:00<?, ?it/s]"
          ],
          "name": "stderr"
        },
        {
          "output_type": "stream",
          "text": [
            "Test set: Average loss: 0.0106, Accuracy: 7648/10000 (76.48%)\n",
            "\n",
            "EPOCH: 7\n"
          ],
          "name": "stdout"
        },
        {
          "output_type": "stream",
          "text": [
            "Loss=1.4216022491455078 Batch_id=781 Accuracy=77.08: 100%|██████████| 782/782 [00:13<00:00, 59.37it/s]\n",
            "  0%|          | 0/782 [00:00<?, ?it/s]"
          ],
          "name": "stderr"
        },
        {
          "output_type": "stream",
          "text": [
            "Test set: Average loss: 0.0099, Accuracy: 7799/10000 (77.99%)\n",
            "\n",
            "EPOCH: 8\n"
          ],
          "name": "stdout"
        },
        {
          "output_type": "stream",
          "text": [
            "Loss=0.7554613351821899 Batch_id=781 Accuracy=78.35: 100%|██████████| 782/782 [00:13<00:00, 59.32it/s]\n",
            "  0%|          | 0/782 [00:00<?, ?it/s]"
          ],
          "name": "stderr"
        },
        {
          "output_type": "stream",
          "text": [
            "Test set: Average loss: 0.0097, Accuracy: 7874/10000 (78.74%)\n",
            "\n",
            "EPOCH: 9\n"
          ],
          "name": "stdout"
        },
        {
          "output_type": "stream",
          "text": [
            "Loss=0.3891369104385376 Batch_id=781 Accuracy=79.27: 100%|██████████| 782/782 [00:13<00:00, 59.75it/s]\n",
            "  0%|          | 0/782 [00:00<?, ?it/s]"
          ],
          "name": "stderr"
        },
        {
          "output_type": "stream",
          "text": [
            "Test set: Average loss: 0.0092, Accuracy: 7963/10000 (79.63%)\n",
            "\n",
            "EPOCH: 10\n"
          ],
          "name": "stdout"
        },
        {
          "output_type": "stream",
          "text": [
            "Loss=0.6550931930541992 Batch_id=781 Accuracy=79.98: 100%|██████████| 782/782 [00:13<00:00, 58.81it/s]\n",
            "  0%|          | 0/782 [00:00<?, ?it/s]"
          ],
          "name": "stderr"
        },
        {
          "output_type": "stream",
          "text": [
            "Test set: Average loss: 0.0088, Accuracy: 8081/10000 (80.81%)\n",
            "\n",
            "EPOCH: 11\n"
          ],
          "name": "stdout"
        },
        {
          "output_type": "stream",
          "text": [
            "Loss=0.4464584290981293 Batch_id=781 Accuracy=81.17: 100%|██████████| 782/782 [00:13<00:00, 58.65it/s]\n",
            "  0%|          | 0/782 [00:00<?, ?it/s]"
          ],
          "name": "stderr"
        },
        {
          "output_type": "stream",
          "text": [
            "Test set: Average loss: 0.0087, Accuracy: 8090/10000 (80.90%)\n",
            "\n",
            "EPOCH: 12\n"
          ],
          "name": "stdout"
        },
        {
          "output_type": "stream",
          "text": [
            "Loss=0.518902599811554 Batch_id=781 Accuracy=81.83: 100%|██████████| 782/782 [00:13<00:00, 65.41it/s]\n",
            "  0%|          | 0/782 [00:00<?, ?it/s]"
          ],
          "name": "stderr"
        },
        {
          "output_type": "stream",
          "text": [
            "Test set: Average loss: 0.0087, Accuracy: 8123/10000 (81.23%)\n",
            "\n",
            "EPOCH: 13\n"
          ],
          "name": "stdout"
        },
        {
          "output_type": "stream",
          "text": [
            "Loss=0.8056405782699585 Batch_id=781 Accuracy=82.59: 100%|██████████| 782/782 [00:13<00:00, 58.05it/s]\n",
            "  0%|          | 0/782 [00:00<?, ?it/s]"
          ],
          "name": "stderr"
        },
        {
          "output_type": "stream",
          "text": [
            "Test set: Average loss: 0.0085, Accuracy: 8106/10000 (81.06%)\n",
            "\n",
            "EPOCH: 14\n"
          ],
          "name": "stdout"
        },
        {
          "output_type": "stream",
          "text": [
            "Loss=0.45859667658805847 Batch_id=781 Accuracy=82.88: 100%|██████████| 782/782 [00:13<00:00, 58.75it/s]\n",
            "  0%|          | 0/782 [00:00<?, ?it/s]"
          ],
          "name": "stderr"
        },
        {
          "output_type": "stream",
          "text": [
            "Test set: Average loss: 0.0083, Accuracy: 8189/10000 (81.89%)\n",
            "\n",
            "EPOCH: 15\n"
          ],
          "name": "stdout"
        },
        {
          "output_type": "stream",
          "text": [
            "Loss=0.7020615339279175 Batch_id=781 Accuracy=83.73: 100%|██████████| 782/782 [00:13<00:00, 58.58it/s]\n",
            "  0%|          | 0/782 [00:00<?, ?it/s]"
          ],
          "name": "stderr"
        },
        {
          "output_type": "stream",
          "text": [
            "Test set: Average loss: 0.0082, Accuracy: 8195/10000 (81.95%)\n",
            "\n",
            "EPOCH: 16\n"
          ],
          "name": "stdout"
        },
        {
          "output_type": "stream",
          "text": [
            "Loss=0.5453580617904663 Batch_id=781 Accuracy=84.00: 100%|██████████| 782/782 [00:13<00:00, 58.51it/s]\n",
            "  0%|          | 0/782 [00:00<?, ?it/s]"
          ],
          "name": "stderr"
        },
        {
          "output_type": "stream",
          "text": [
            "Test set: Average loss: 0.0081, Accuracy: 8240/10000 (82.40%)\n",
            "\n",
            "EPOCH: 17\n"
          ],
          "name": "stdout"
        },
        {
          "output_type": "stream",
          "text": [
            "Loss=1.0819402933120728 Batch_id=781 Accuracy=84.49: 100%|██████████| 782/782 [00:13<00:00, 59.48it/s]\n",
            "  0%|          | 0/782 [00:00<?, ?it/s]"
          ],
          "name": "stderr"
        },
        {
          "output_type": "stream",
          "text": [
            "Test set: Average loss: 0.0081, Accuracy: 8233/10000 (82.33%)\n",
            "\n",
            "EPOCH: 18\n"
          ],
          "name": "stdout"
        },
        {
          "output_type": "stream",
          "text": [
            "Loss=0.5052637457847595 Batch_id=781 Accuracy=84.97: 100%|██████████| 782/782 [00:13<00:00, 59.66it/s]\n",
            "  0%|          | 0/782 [00:00<?, ?it/s]"
          ],
          "name": "stderr"
        },
        {
          "output_type": "stream",
          "text": [
            "Test set: Average loss: 0.0079, Accuracy: 8263/10000 (82.63%)\n",
            "\n",
            "EPOCH: 19\n"
          ],
          "name": "stdout"
        },
        {
          "output_type": "stream",
          "text": [
            "Loss=0.2817121744155884 Batch_id=781 Accuracy=85.42: 100%|██████████| 782/782 [00:13<00:00, 59.67it/s]\n",
            "  0%|          | 0/782 [00:00<?, ?it/s]"
          ],
          "name": "stderr"
        },
        {
          "output_type": "stream",
          "text": [
            "Test set: Average loss: 0.0079, Accuracy: 8281/10000 (82.81%)\n",
            "\n",
            "EPOCH: 20\n"
          ],
          "name": "stdout"
        },
        {
          "output_type": "stream",
          "text": [
            "Loss=0.3980835974216461 Batch_id=781 Accuracy=85.81: 100%|██████████| 782/782 [00:13<00:00, 59.71it/s]\n",
            "  0%|          | 0/782 [00:00<?, ?it/s]"
          ],
          "name": "stderr"
        },
        {
          "output_type": "stream",
          "text": [
            "Test set: Average loss: 0.0076, Accuracy: 8371/10000 (83.71%)\n",
            "\n",
            "EPOCH: 21\n"
          ],
          "name": "stdout"
        },
        {
          "output_type": "stream",
          "text": [
            "Loss=0.14790745079517365 Batch_id=781 Accuracy=85.98: 100%|██████████| 782/782 [00:13<00:00, 59.45it/s]\n",
            "  0%|          | 0/782 [00:00<?, ?it/s]"
          ],
          "name": "stderr"
        },
        {
          "output_type": "stream",
          "text": [
            "Test set: Average loss: 0.0075, Accuracy: 8368/10000 (83.68%)\n",
            "\n",
            "EPOCH: 22\n"
          ],
          "name": "stdout"
        },
        {
          "output_type": "stream",
          "text": [
            "Loss=0.8588748574256897 Batch_id=781 Accuracy=86.49: 100%|██████████| 782/782 [00:13<00:00, 60.07it/s]\n",
            "  0%|          | 0/782 [00:00<?, ?it/s]"
          ],
          "name": "stderr"
        },
        {
          "output_type": "stream",
          "text": [
            "Test set: Average loss: 0.0076, Accuracy: 8363/10000 (83.63%)\n",
            "\n",
            "EPOCH: 23\n"
          ],
          "name": "stdout"
        },
        {
          "output_type": "stream",
          "text": [
            "Loss=0.6755118370056152 Batch_id=781 Accuracy=86.72: 100%|██████████| 782/782 [00:12<00:00, 60.48it/s]\n",
            "  0%|          | 0/782 [00:00<?, ?it/s]"
          ],
          "name": "stderr"
        },
        {
          "output_type": "stream",
          "text": [
            "Test set: Average loss: 0.0076, Accuracy: 8365/10000 (83.65%)\n",
            "\n",
            "EPOCH: 24\n"
          ],
          "name": "stdout"
        },
        {
          "output_type": "stream",
          "text": [
            "Loss=1.3395836353302002 Batch_id=781 Accuracy=86.89: 100%|██████████| 782/782 [00:13<00:00, 59.75it/s]\n",
            "  0%|          | 0/782 [00:00<?, ?it/s]"
          ],
          "name": "stderr"
        },
        {
          "output_type": "stream",
          "text": [
            "Test set: Average loss: 0.0076, Accuracy: 8342/10000 (83.42%)\n",
            "\n",
            "EPOCH: 25\n"
          ],
          "name": "stdout"
        },
        {
          "output_type": "stream",
          "text": [
            "Loss=0.23589760065078735 Batch_id=781 Accuracy=87.17: 100%|██████████| 782/782 [00:13<00:00, 70.22it/s]\n",
            "  0%|          | 0/782 [00:00<?, ?it/s]"
          ],
          "name": "stderr"
        },
        {
          "output_type": "stream",
          "text": [
            "Test set: Average loss: 0.0072, Accuracy: 8421/10000 (84.21%)\n",
            "\n",
            "EPOCH: 26\n"
          ],
          "name": "stdout"
        },
        {
          "output_type": "stream",
          "text": [
            "Loss=0.3308635354042053 Batch_id=781 Accuracy=87.61: 100%|██████████| 782/782 [00:13<00:00, 59.93it/s]\n",
            "  0%|          | 0/782 [00:00<?, ?it/s]"
          ],
          "name": "stderr"
        },
        {
          "output_type": "stream",
          "text": [
            "Test set: Average loss: 0.0073, Accuracy: 8428/10000 (84.28%)\n",
            "\n",
            "EPOCH: 27\n"
          ],
          "name": "stdout"
        },
        {
          "output_type": "stream",
          "text": [
            "Loss=0.3824074864387512 Batch_id=781 Accuracy=87.88: 100%|██████████| 782/782 [00:13<00:00, 58.67it/s]\n",
            "  0%|          | 0/782 [00:00<?, ?it/s]"
          ],
          "name": "stderr"
        },
        {
          "output_type": "stream",
          "text": [
            "Test set: Average loss: 0.0072, Accuracy: 8448/10000 (84.48%)\n",
            "\n",
            "EPOCH: 28\n"
          ],
          "name": "stdout"
        },
        {
          "output_type": "stream",
          "text": [
            "Loss=0.18684743344783783 Batch_id=781 Accuracy=87.93: 100%|██████████| 782/782 [00:13<00:00, 59.88it/s]\n",
            "  0%|          | 0/782 [00:00<?, ?it/s]"
          ],
          "name": "stderr"
        },
        {
          "output_type": "stream",
          "text": [
            "Test set: Average loss: 0.0072, Accuracy: 8418/10000 (84.18%)\n",
            "\n",
            "EPOCH: 29\n"
          ],
          "name": "stdout"
        },
        {
          "output_type": "stream",
          "text": [
            "Loss=0.5710889101028442 Batch_id=781 Accuracy=88.19: 100%|██████████| 782/782 [00:12<00:00, 60.27it/s]\n",
            "  0%|          | 0/782 [00:00<?, ?it/s]"
          ],
          "name": "stderr"
        },
        {
          "output_type": "stream",
          "text": [
            "Test set: Average loss: 0.0071, Accuracy: 8495/10000 (84.95%)\n",
            "\n",
            "EPOCH: 30\n"
          ],
          "name": "stdout"
        },
        {
          "output_type": "stream",
          "text": [
            "Loss=0.48060622811317444 Batch_id=781 Accuracy=88.37: 100%|██████████| 782/782 [00:13<00:00, 60.04it/s]\n",
            "  0%|          | 0/782 [00:00<?, ?it/s]"
          ],
          "name": "stderr"
        },
        {
          "output_type": "stream",
          "text": [
            "Test set: Average loss: 0.0073, Accuracy: 8454/10000 (84.54%)\n",
            "\n",
            "EPOCH: 31\n"
          ],
          "name": "stdout"
        },
        {
          "output_type": "stream",
          "text": [
            "Loss=0.5331012606620789 Batch_id=781 Accuracy=88.70: 100%|██████████| 782/782 [00:13<00:00, 59.21it/s]\n",
            "  0%|          | 0/782 [00:00<?, ?it/s]"
          ],
          "name": "stderr"
        },
        {
          "output_type": "stream",
          "text": [
            "Test set: Average loss: 0.0072, Accuracy: 8482/10000 (84.82%)\n",
            "\n",
            "EPOCH: 32\n"
          ],
          "name": "stdout"
        },
        {
          "output_type": "stream",
          "text": [
            "Loss=0.1671673208475113 Batch_id=781 Accuracy=88.79: 100%|██████████| 782/782 [00:13<00:00, 59.69it/s]\n",
            "  0%|          | 0/782 [00:00<?, ?it/s]"
          ],
          "name": "stderr"
        },
        {
          "output_type": "stream",
          "text": [
            "Test set: Average loss: 0.0071, Accuracy: 8488/10000 (84.88%)\n",
            "\n",
            "EPOCH: 33\n"
          ],
          "name": "stdout"
        },
        {
          "output_type": "stream",
          "text": [
            "Loss=0.12110505998134613 Batch_id=781 Accuracy=88.97: 100%|██████████| 782/782 [00:12<00:00, 60.65it/s]\n",
            "  0%|          | 0/782 [00:00<?, ?it/s]"
          ],
          "name": "stderr"
        },
        {
          "output_type": "stream",
          "text": [
            "Test set: Average loss: 0.0071, Accuracy: 8499/10000 (84.99%)\n",
            "\n",
            "EPOCH: 34\n"
          ],
          "name": "stdout"
        },
        {
          "output_type": "stream",
          "text": [
            "Loss=0.5038714408874512 Batch_id=781 Accuracy=89.11: 100%|██████████| 782/782 [00:13<00:00, 58.99it/s]\n",
            "  0%|          | 0/782 [00:00<?, ?it/s]"
          ],
          "name": "stderr"
        },
        {
          "output_type": "stream",
          "text": [
            "\n",
            "Accuracy of plane : 90 %\n",
            "Accuracy of   car : 94 %\n",
            "Accuracy of  bird : 79 %\n",
            "Accuracy of   cat : 70 %\n",
            "Accuracy of  deer : 79 %\n",
            "Accuracy of   dog : 79 %\n",
            "Accuracy of  frog : 85 %\n",
            "Accuracy of horse : 82 %\n",
            "Accuracy of  ship : 93 %\n",
            "Accuracy of truck : 90 %\n",
            "\n",
            "Test set: Average loss: 0.0071, Accuracy: 8508/10000 (85.08%)\n",
            "\n",
            "EPOCH: 35\n"
          ],
          "name": "stdout"
        },
        {
          "output_type": "stream",
          "text": [
            "Loss=0.5186720490455627 Batch_id=781 Accuracy=89.39: 100%|██████████| 782/782 [00:12<00:00, 60.53it/s]\n",
            "  0%|          | 0/782 [00:00<?, ?it/s]"
          ],
          "name": "stderr"
        },
        {
          "output_type": "stream",
          "text": [
            "Test set: Average loss: 0.0072, Accuracy: 8479/10000 (84.79%)\n",
            "\n",
            "EPOCH: 36\n"
          ],
          "name": "stdout"
        },
        {
          "output_type": "stream",
          "text": [
            "Loss=0.25411802530288696 Batch_id=781 Accuracy=89.59: 100%|██████████| 782/782 [00:12<00:00, 60.38it/s]\n",
            "  0%|          | 0/782 [00:00<?, ?it/s]"
          ],
          "name": "stderr"
        },
        {
          "output_type": "stream",
          "text": [
            "Test set: Average loss: 0.0071, Accuracy: 8500/10000 (85.00%)\n",
            "\n",
            "EPOCH: 37\n"
          ],
          "name": "stdout"
        },
        {
          "output_type": "stream",
          "text": [
            "Loss=0.5760746002197266 Batch_id=781 Accuracy=89.89: 100%|██████████| 782/782 [00:13<00:00, 59.71it/s]\n",
            "  0%|          | 0/782 [00:00<?, ?it/s]"
          ],
          "name": "stderr"
        },
        {
          "output_type": "stream",
          "text": [
            "Test set: Average loss: 0.0071, Accuracy: 8498/10000 (84.98%)\n",
            "\n",
            "EPOCH: 38\n"
          ],
          "name": "stdout"
        },
        {
          "output_type": "stream",
          "text": [
            "Loss=0.22298529744148254 Batch_id=781 Accuracy=90.05: 100%|██████████| 782/782 [00:13<00:00, 59.92it/s]\n",
            "  0%|          | 0/782 [00:00<?, ?it/s]"
          ],
          "name": "stderr"
        },
        {
          "output_type": "stream",
          "text": [
            "\n",
            "Accuracy of plane : 83 %\n",
            "Accuracy of   car : 91 %\n",
            "Accuracy of  bird : 71 %\n",
            "Accuracy of   cat : 71 %\n",
            "Accuracy of  deer : 81 %\n",
            "Accuracy of   dog : 87 %\n",
            "Accuracy of  frog : 98 %\n",
            "Accuracy of horse : 92 %\n",
            "Accuracy of  ship : 88 %\n",
            "Accuracy of truck : 88 %\n",
            "\n",
            "Test set: Average loss: 0.0072, Accuracy: 8509/10000 (85.09%)\n",
            "\n",
            "EPOCH: 39\n"
          ],
          "name": "stdout"
        },
        {
          "output_type": "stream",
          "text": [
            "Loss=0.49347275495529175 Batch_id=781 Accuracy=90.06: 100%|██████████| 782/782 [00:13<00:00, 59.73it/s]\n",
            "  0%|          | 0/782 [00:00<?, ?it/s]"
          ],
          "name": "stderr"
        },
        {
          "output_type": "stream",
          "text": [
            "\n",
            "Accuracy of plane : 81 %\n",
            "Accuracy of   car : 94 %\n",
            "Accuracy of  bird : 75 %\n",
            "Accuracy of   cat : 75 %\n",
            "Accuracy of  deer : 78 %\n",
            "Accuracy of   dog : 71 %\n",
            "Accuracy of  frog : 94 %\n",
            "Accuracy of horse : 88 %\n",
            "Accuracy of  ship : 94 %\n",
            "Accuracy of truck : 92 %\n",
            "\n",
            "Test set: Average loss: 0.0072, Accuracy: 8503/10000 (85.03%)\n",
            "\n",
            "EPOCH: 40\n"
          ],
          "name": "stdout"
        },
        {
          "output_type": "stream",
          "text": [
            "Loss=0.5140050649642944 Batch_id=781 Accuracy=90.16: 100%|██████████| 782/782 [00:13<00:00, 59.69it/s]\n",
            "  0%|          | 0/782 [00:00<?, ?it/s]"
          ],
          "name": "stderr"
        },
        {
          "output_type": "stream",
          "text": [
            "\n",
            "Accuracy of plane : 90 %\n",
            "Accuracy of   car : 90 %\n",
            "Accuracy of  bird : 74 %\n",
            "Accuracy of   cat : 66 %\n",
            "Accuracy of  deer : 86 %\n",
            "Accuracy of   dog : 78 %\n",
            "Accuracy of  frog : 89 %\n",
            "Accuracy of horse : 91 %\n",
            "Accuracy of  ship : 93 %\n",
            "Accuracy of truck : 86 %\n",
            "\n",
            "Test set: Average loss: 0.0073, Accuracy: 8507/10000 (85.07%)\n",
            "\n",
            "EPOCH: 41\n"
          ],
          "name": "stdout"
        },
        {
          "output_type": "stream",
          "text": [
            "Loss=0.5805366039276123 Batch_id=781 Accuracy=90.35: 100%|██████████| 782/782 [00:13<00:00, 59.87it/s]\n",
            "  0%|          | 0/782 [00:00<?, ?it/s]"
          ],
          "name": "stderr"
        },
        {
          "output_type": "stream",
          "text": [
            "\n",
            "Accuracy of plane : 90 %\n",
            "Accuracy of   car : 90 %\n",
            "Accuracy of  bird : 85 %\n",
            "Accuracy of   cat : 70 %\n",
            "Accuracy of  deer : 94 %\n",
            "Accuracy of   dog : 81 %\n",
            "Accuracy of  frog : 83 %\n",
            "Accuracy of horse : 88 %\n",
            "Accuracy of  ship : 91 %\n",
            "Accuracy of truck : 87 %\n",
            "\n",
            "Test set: Average loss: 0.0072, Accuracy: 8511/10000 (85.11%)\n",
            "\n",
            "EPOCH: 42\n"
          ],
          "name": "stdout"
        },
        {
          "output_type": "stream",
          "text": [
            "Loss=0.5248568654060364 Batch_id=781 Accuracy=90.45: 100%|██████████| 782/782 [00:13<00:00, 59.56it/s]\n",
            "  0%|          | 0/782 [00:00<?, ?it/s]"
          ],
          "name": "stderr"
        },
        {
          "output_type": "stream",
          "text": [
            "\n",
            "Accuracy of plane : 93 %\n",
            "Accuracy of   car : 93 %\n",
            "Accuracy of  bird : 78 %\n",
            "Accuracy of   cat : 70 %\n",
            "Accuracy of  deer : 90 %\n",
            "Accuracy of   dog : 75 %\n",
            "Accuracy of  frog : 95 %\n",
            "Accuracy of horse : 92 %\n",
            "Accuracy of  ship : 84 %\n",
            "Accuracy of truck : 86 %\n",
            "\n",
            "Test set: Average loss: 0.0071, Accuracy: 8532/10000 (85.32%)\n",
            "\n",
            "EPOCH: 43\n"
          ],
          "name": "stdout"
        },
        {
          "output_type": "stream",
          "text": [
            "Loss=0.4467218518257141 Batch_id=781 Accuracy=90.69: 100%|██████████| 782/782 [00:13<00:00, 59.96it/s]\n",
            "  0%|          | 0/782 [00:00<?, ?it/s]"
          ],
          "name": "stderr"
        },
        {
          "output_type": "stream",
          "text": [
            "\n",
            "Accuracy of plane : 90 %\n",
            "Accuracy of   car : 90 %\n",
            "Accuracy of  bird : 78 %\n",
            "Accuracy of   cat : 74 %\n",
            "Accuracy of  deer : 89 %\n",
            "Accuracy of   dog : 75 %\n",
            "Accuracy of  frog : 89 %\n",
            "Accuracy of horse : 89 %\n",
            "Accuracy of  ship : 91 %\n",
            "Accuracy of truck : 96 %\n",
            "\n",
            "Test set: Average loss: 0.0072, Accuracy: 8512/10000 (85.12%)\n",
            "\n",
            "EPOCH: 44\n"
          ],
          "name": "stdout"
        },
        {
          "output_type": "stream",
          "text": [
            "Loss=0.05852985382080078 Batch_id=781 Accuracy=90.72: 100%|██████████| 782/782 [00:13<00:00, 60.14it/s]\n",
            "  0%|          | 0/782 [00:00<?, ?it/s]"
          ],
          "name": "stderr"
        },
        {
          "output_type": "stream",
          "text": [
            "\n",
            "Accuracy of plane : 85 %\n",
            "Accuracy of   car : 86 %\n",
            "Accuracy of  bird : 86 %\n",
            "Accuracy of   cat : 72 %\n",
            "Accuracy of  deer : 78 %\n",
            "Accuracy of   dog : 70 %\n",
            "Accuracy of  frog : 90 %\n",
            "Accuracy of horse : 89 %\n",
            "Accuracy of  ship : 92 %\n",
            "Accuracy of truck : 91 %\n",
            "\n",
            "Test set: Average loss: 0.0072, Accuracy: 8519/10000 (85.19%)\n",
            "\n",
            "EPOCH: 45\n"
          ],
          "name": "stdout"
        },
        {
          "output_type": "stream",
          "text": [
            "Loss=0.3708493113517761 Batch_id=781 Accuracy=90.63: 100%|██████████| 782/782 [00:12<00:00, 70.28it/s]\n",
            "  0%|          | 0/782 [00:00<?, ?it/s]"
          ],
          "name": "stderr"
        },
        {
          "output_type": "stream",
          "text": [
            "\n",
            "Accuracy of plane : 85 %\n",
            "Accuracy of   car : 91 %\n",
            "Accuracy of  bird : 77 %\n",
            "Accuracy of   cat : 71 %\n",
            "Accuracy of  deer : 81 %\n",
            "Accuracy of   dog : 80 %\n",
            "Accuracy of  frog : 96 %\n",
            "Accuracy of horse : 88 %\n",
            "Accuracy of  ship : 93 %\n",
            "Accuracy of truck : 94 %\n",
            "\n",
            "Test set: Average loss: 0.0070, Accuracy: 8533/10000 (85.33%)\n",
            "\n",
            "EPOCH: 46\n"
          ],
          "name": "stdout"
        },
        {
          "output_type": "stream",
          "text": [
            "Loss=0.30576467514038086 Batch_id=781 Accuracy=90.98: 100%|██████████| 782/782 [00:12<00:00, 60.46it/s]\n",
            "  0%|          | 0/782 [00:00<?, ?it/s]"
          ],
          "name": "stderr"
        },
        {
          "output_type": "stream",
          "text": [
            "\n",
            "Accuracy of plane : 90 %\n",
            "Accuracy of   car : 95 %\n",
            "Accuracy of  bird : 74 %\n",
            "Accuracy of   cat : 72 %\n",
            "Accuracy of  deer : 87 %\n",
            "Accuracy of   dog : 87 %\n",
            "Accuracy of  frog : 89 %\n",
            "Accuracy of horse : 85 %\n",
            "Accuracy of  ship : 84 %\n",
            "Accuracy of truck : 86 %\n",
            "\n",
            "Test set: Average loss: 0.0071, Accuracy: 8546/10000 (85.46%)\n",
            "\n",
            "EPOCH: 47\n"
          ],
          "name": "stdout"
        },
        {
          "output_type": "stream",
          "text": [
            "Loss=0.4541107416152954 Batch_id=781 Accuracy=91.08: 100%|██████████| 782/782 [00:13<00:00, 59.65it/s]\n",
            "  0%|          | 0/782 [00:00<?, ?it/s]"
          ],
          "name": "stderr"
        },
        {
          "output_type": "stream",
          "text": [
            "\n",
            "Accuracy of plane : 91 %\n",
            "Accuracy of   car : 96 %\n",
            "Accuracy of  bird : 92 %\n",
            "Accuracy of   cat : 61 %\n",
            "Accuracy of  deer : 82 %\n",
            "Accuracy of   dog : 67 %\n",
            "Accuracy of  frog : 95 %\n",
            "Accuracy of horse : 87 %\n",
            "Accuracy of  ship : 94 %\n",
            "Accuracy of truck : 90 %\n",
            "\n",
            "Test set: Average loss: 0.0071, Accuracy: 8553/10000 (85.53%)\n",
            "\n",
            "EPOCH: 48\n"
          ],
          "name": "stdout"
        },
        {
          "output_type": "stream",
          "text": [
            "Loss=0.27771079540252686 Batch_id=781 Accuracy=91.04: 100%|██████████| 782/782 [00:12<00:00, 60.27it/s]\n",
            "  0%|          | 0/782 [00:00<?, ?it/s]"
          ],
          "name": "stderr"
        },
        {
          "output_type": "stream",
          "text": [
            "\n",
            "Accuracy of plane : 88 %\n",
            "Accuracy of   car : 96 %\n",
            "Accuracy of  bird : 74 %\n",
            "Accuracy of   cat : 79 %\n",
            "Accuracy of  deer : 76 %\n",
            "Accuracy of   dog : 72 %\n",
            "Accuracy of  frog : 88 %\n",
            "Accuracy of horse : 88 %\n",
            "Accuracy of  ship : 88 %\n",
            "Accuracy of truck : 88 %\n",
            "\n",
            "Test set: Average loss: 0.0072, Accuracy: 8541/10000 (85.41%)\n",
            "\n",
            "EPOCH: 49\n"
          ],
          "name": "stdout"
        },
        {
          "output_type": "stream",
          "text": [
            "Loss=0.19634360074996948 Batch_id=781 Accuracy=91.08: 100%|██████████| 782/782 [00:13<00:00, 60.13it/s]\n",
            "  0%|          | 0/782 [00:00<?, ?it/s]"
          ],
          "name": "stderr"
        },
        {
          "output_type": "stream",
          "text": [
            "\n",
            "Accuracy of plane : 81 %\n",
            "Accuracy of   car : 94 %\n",
            "Accuracy of  bird : 92 %\n",
            "Accuracy of   cat : 66 %\n",
            "Accuracy of  deer : 83 %\n",
            "Accuracy of   dog : 81 %\n",
            "Accuracy of  frog : 91 %\n",
            "Accuracy of horse : 90 %\n",
            "Accuracy of  ship : 90 %\n",
            "Accuracy of truck : 90 %\n",
            "\n",
            "Test set: Average loss: 0.0069, Accuracy: 8590/10000 (85.90%)\n",
            "\n",
            "EPOCH: 50\n"
          ],
          "name": "stdout"
        },
        {
          "output_type": "stream",
          "text": [
            "Loss=0.17310084402561188 Batch_id=781 Accuracy=91.34: 100%|██████████| 782/782 [00:13<00:00, 59.34it/s]\n"
          ],
          "name": "stderr"
        },
        {
          "output_type": "stream",
          "text": [
            "\n",
            "Accuracy of plane : 86 %\n",
            "Accuracy of   car : 91 %\n",
            "Accuracy of  bird : 85 %\n",
            "Accuracy of   cat : 71 %\n",
            "Accuracy of  deer : 79 %\n",
            "Accuracy of   dog : 84 %\n",
            "Accuracy of  frog : 89 %\n",
            "Accuracy of horse : 82 %\n",
            "Accuracy of  ship : 96 %\n",
            "Accuracy of truck : 86 %\n",
            "\n",
            "Test set: Average loss: 0.0070, Accuracy: 8601/10000 (86.01%)\n",
            "\n"
          ],
          "name": "stdout"
        }
      ]
    },
    {
      "cell_type": "markdown",
      "metadata": {
        "id": "ZNKX9NyWl2Pa",
        "colab_type": "text"
      },
      "source": [
        "## Plot Validation Loss\n",
        "\n",
        "Plot the change in validation loss vs epochs"
      ]
    },
    {
      "cell_type": "code",
      "metadata": {
        "id": "qAln8pbZFUTp",
        "colab_type": "code",
        "colab": {
          "base_uri": "https://localhost:8080/",
          "height": 458
        },
        "outputId": "01d7faf3-27f1-4546-de04-6b1883b07380"
      },
      "source": [
        "plot_graph(test_losses, \"Loss\")"
      ],
      "execution_count": 6,
      "outputs": [
        {
          "output_type": "display_data",
          "data": {
            "image/png": "[encoded data removed]",
            "text/plain": [
              "<Figure size 504x504 with 1 Axes>"
            ]
          },
          "metadata": {
            "tags": []
          }
        }
      ]
    },
    {
      "cell_type": "markdown",
      "metadata": {
        "id": "o2liIpyOl97x",
        "colab_type": "text"
      },
      "source": [
        "## Plot Validatiion Accuracy\n",
        "\n",
        "Plot the change in validation accracy vs epochs"
      ]
    },
    {
      "cell_type": "code",
      "metadata": {
        "id": "97fghqSZmA75",
        "colab_type": "code",
        "colab": {
          "base_uri": "https://localhost:8080/",
          "height": 458
        },
        "outputId": "26179df9-42b9-4aa4-a1fa-5aadfada284b"
      },
      "source": [
        "plot_graph(test_accs, \"Accuracy\")"
      ],
      "execution_count": 7,
      "outputs": [
        {
          "output_type": "display_data",
          "data": {
            "image/png": "[encoded data removed]",
            "text/plain": [
              "<Figure size 504x504 with 1 Axes>"
            ]
          },
          "metadata": {
            "tags": []
          }
        }
      ]
    },
    {
      "cell_type": "markdown",
      "metadata": {
        "id": "65VeHvTzmEpj",
        "colab_type": "text"
      },
      "source": [
        "## Misclassified Images\n",
        "\n",
        "Display 25 misclassified test images"
      ]
    },
    {
      "cell_type": "code",
      "metadata": {
        "id": "9i649JxwmbG8",
        "colab_type": "code",
        "colab": {
          "base_uri": "https://localhost:8080/",
          "height": 729
        },
        "outputId": "2ac0640a-aa73-4131-cdcd-e39791747bd0"
      },
      "source": [
        "plot_misclassified_images(misclassified_imgs, data.classes, \"misclassified_imgs.png\")"
      ],
      "execution_count": 8,
      "outputs": [
        {
          "output_type": "display_data",
          "data": {
            "image/png": "[encoded data removed]",
            "text/plain": [
              "<Figure size 720x720 with 25 Axes>"
            ]
          },
          "metadata": {
            "tags": []
          }
        }
      ]
    }
  ]
}